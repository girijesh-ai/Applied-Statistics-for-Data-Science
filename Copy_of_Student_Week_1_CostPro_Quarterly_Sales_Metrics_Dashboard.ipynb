{
  "cells": [
    {
      "cell_type": "markdown",
      "metadata": {
        "id": "view-in-github",
        "colab_type": "text"
      },
      "source": [
        "<a href=\"https://colab.research.google.com/github/girijesh-ai/Applied-Statistics-for-Data-Science/blob/main/Copy_of_Student_Week_1_CostPro_Quarterly_Sales_Metrics_Dashboard.ipynb\" target=\"_parent\"><img src=\"https://colab.research.google.com/assets/colab-badge.svg\" alt=\"Open In Colab\"/></a>"
      ]
    },
    {
      "cell_type": "markdown",
      "metadata": {
        "id": "hK2HJNxKT8nu"
      },
      "source": [
        "# CostPro Quarterly Sales Metrics Dashboard"
      ]
    },
    {
      "cell_type": "markdown",
      "metadata": {
        "id": "vy0fnYSeT7JW"
      },
      "source": [
        "As a Junior Data Scientist at a online retailer, CostPro, you have the opportunity to work on a project that will have a major impact on the company. Your goal is to create a metrics dashboard that will provide a clear overview of the business' sales metrics, which your leadership team can use to guide business decisions. You'll use measures of central tendency and variability to help CostPro better understand their quarterly sales and visualize the likelihood that a customer will arrive on the website in a given time interval."
      ]
    },
    {
      "cell_type": "markdown",
      "metadata": {
        "id": "cloRwMmTVEk1"
      },
      "source": [
        "## Project Setup"
      ]
    },
    {
      "cell_type": "markdown",
      "source": [
        "First, we need to download and import all of the dependencies that we will need for the project"
      ],
      "metadata": {
        "id": "kidKo1sn4ZxV"
      }
    },
    {
      "cell_type": "markdown",
      "metadata": {
        "id": "W4yXMQCYVvQP"
      },
      "source": [
        "### Dependencies"
      ]
    },
    {
      "cell_type": "code",
      "execution_count": 1,
      "metadata": {
        "id": "alHjfjNjVyMd",
        "colab": {
          "base_uri": "https://localhost:8080/"
        },
        "outputId": "595f959b-e8d7-46ed-aaf3-5cabc7d2dd47"
      },
      "outputs": [
        {
          "output_type": "stream",
          "name": "stdout",
          "text": [
            "\u001b[?25l     \u001b[90m━━━━━━━━━━━━━━━━━━━━━━━━━━━━━━━━━━━━━━━━\u001b[0m \u001b[32m0.0/1.1 MB\u001b[0m \u001b[31m?\u001b[0m eta \u001b[36m-:--:--\u001b[0m\r\u001b[2K     \u001b[91m━━━\u001b[0m\u001b[90m╺\u001b[0m\u001b[90m━━━━━━━━━━━━━━━━━━━━━━━━━━━━━━━━━━━━\u001b[0m \u001b[32m0.1/1.1 MB\u001b[0m \u001b[31m2.6 MB/s\u001b[0m eta \u001b[36m0:00:01\u001b[0m\r\u001b[2K     \u001b[91m━━━━━━━━━━━━━━━━━━\u001b[0m\u001b[90m╺\u001b[0m\u001b[90m━━━━━━━━━━━━━━━━━━━━━\u001b[0m \u001b[32m0.5/1.1 MB\u001b[0m \u001b[31m7.4 MB/s\u001b[0m eta \u001b[36m0:00:01\u001b[0m\r\u001b[2K     \u001b[91m━━━━━━━━━━━━━━━━━━━━━━━━━━━━━━━━━━━━━━━\u001b[0m\u001b[91m╸\u001b[0m \u001b[32m1.0/1.1 MB\u001b[0m \u001b[31m10.5 MB/s\u001b[0m eta \u001b[36m0:00:01\u001b[0m\r\u001b[2K     \u001b[90m━━━━━━━━━━━━━━━━━━━━━━━━━━━━━━━━━━━━━━━━\u001b[0m \u001b[32m1.1/1.1 MB\u001b[0m \u001b[31m8.9 MB/s\u001b[0m eta \u001b[36m0:00:00\u001b[0m\n",
            "\u001b[?25h\u001b[31mERROR: pip's dependency resolver does not currently take into account all the packages that are installed. This behaviour is the source of the following dependency conflicts.\n",
            "google-api-core 2.11.1 requires protobuf!=3.20.0,!=3.20.1,!=4.21.0,!=4.21.1,!=4.21.2,!=4.21.3,!=4.21.4,!=4.21.5,<5.0.0.dev0,>=3.19.5, but you have protobuf 3.20.0 which is incompatible.\n",
            "google-cloud-bigquery 3.10.0 requires protobuf!=3.20.0,!=3.20.1,!=4.21.0,!=4.21.1,!=4.21.2,!=4.21.3,!=4.21.4,!=4.21.5,<5.0.0dev,>=3.19.5, but you have protobuf 3.20.0 which is incompatible.\n",
            "google-cloud-bigquery-connection 1.12.1 requires protobuf!=3.20.0,!=3.20.1,!=4.21.0,!=4.21.1,!=4.21.2,!=4.21.3,!=4.21.4,!=4.21.5,<5.0.0dev,>=3.19.5, but you have protobuf 3.20.0 which is incompatible.\n",
            "google-cloud-bigquery-storage 2.22.0 requires protobuf!=3.20.0,!=3.20.1,!=4.21.0,!=4.21.1,!=4.21.2,!=4.21.3,!=4.21.4,!=4.21.5,<5.0.0dev,>=3.19.5, but you have protobuf 3.20.0 which is incompatible.\n",
            "google-cloud-datastore 2.15.2 requires protobuf!=3.20.0,!=3.20.1,!=4.21.0,!=4.21.1,!=4.21.2,!=4.21.3,!=4.21.4,!=4.21.5,<5.0.0dev,>=3.19.5, but you have protobuf 3.20.0 which is incompatible.\n",
            "google-cloud-firestore 2.11.1 requires protobuf!=3.20.0,!=3.20.1,!=4.21.0,!=4.21.1,!=4.21.2,!=4.21.3,!=4.21.4,!=4.21.5,<5.0.0dev,>=3.19.5, but you have protobuf 3.20.0 which is incompatible.\n",
            "google-cloud-functions 1.13.2 requires protobuf!=3.20.0,!=3.20.1,!=4.21.0,!=4.21.1,!=4.21.2,!=4.21.3,!=4.21.4,!=4.21.5,<5.0.0dev,>=3.19.5, but you have protobuf 3.20.0 which is incompatible.\n",
            "google-cloud-language 2.9.1 requires protobuf!=3.20.0,!=3.20.1,!=4.21.0,!=4.21.1,!=4.21.2,!=4.21.3,!=4.21.4,!=4.21.5,<5.0.0dev,>=3.19.5, but you have protobuf 3.20.0 which is incompatible.\n",
            "google-cloud-translate 3.11.3 requires protobuf!=3.20.0,!=3.20.1,!=4.21.0,!=4.21.1,!=4.21.2,!=4.21.3,!=4.21.4,!=4.21.5,<5.0.0dev,>=3.19.5, but you have protobuf 3.20.0 which is incompatible.\n",
            "googleapis-common-protos 1.60.0 requires protobuf!=3.20.0,!=3.20.1,!=4.21.1,!=4.21.2,!=4.21.3,!=4.21.4,!=4.21.5,<5.0.0.dev0,>=3.19.5, but you have protobuf 3.20.0 which is incompatible.\n",
            "grpc-google-iam-v1 0.12.6 requires protobuf!=3.20.0,!=3.20.1,!=4.21.1,!=4.21.2,!=4.21.3,!=4.21.4,!=4.21.5,<5.0.0dev,>=3.19.5, but you have protobuf 3.20.0 which is incompatible.\n",
            "tensorflow 2.13.0 requires protobuf!=4.21.0,!=4.21.1,!=4.21.2,!=4.21.3,!=4.21.4,!=4.21.5,<5.0.0dev,>=3.20.3, but you have protobuf 3.20.0 which is incompatible.\n",
            "tensorflow-metadata 1.14.0 requires protobuf<4.21,>=3.20.3, but you have protobuf 3.20.0 which is incompatible.\u001b[0m\u001b[31m\n",
            "\u001b[0m"
          ]
        }
      ],
      "source": [
        "# Install all required dependencies for the project\n",
        "!pip install -qqq numpy pandas seaborn matplotlib gdown plotly scipy\n",
        "!pip install -qqq --force-reinstall protobuf==3.20 ##We need this to avoid version incompatibilities between packages"
      ]
    },
    {
      "cell_type": "code",
      "execution_count": 2,
      "metadata": {
        "id": "N8ja3Pn-V5qM"
      },
      "outputs": [],
      "source": [
        "# Import dependencies\n",
        "import numpy as np\n",
        "import pandas as pd\n",
        "import seaborn as sns\n",
        "import matplotlib.pyplot as plt\n",
        "import plotly.express as px\n",
        "import shutil\n",
        "import gdown\n",
        "from google.colab import files\n",
        "\n",
        "# [TO BE IMPLEMENTED]\n",
        "# Feel free to add any other imports that you need to write your own custom metrics"
      ]
    },
    {
      "cell_type": "markdown",
      "metadata": {
        "id": "p6PBDWHba3ML"
      },
      "source": [
        "## Data"
      ]
    },
    {
      "cell_type": "markdown",
      "source": [
        "[Online Retail](https://archive.ics.uci.edu/ml/datasets/online+retail) is a collection of roughly 400,000 records from an international online retail dataset. For this project, we will use a slightly modified (cleaned up) version of this dataset as the sales data for CostPro."
      ],
      "metadata": {
        "id": "kfkh8pwB5cLF"
      }
    },
    {
      "cell_type": "markdown",
      "metadata": {
        "id": "eBpKXQayVG-W"
      },
      "source": [
        "### Download the Dataset"
      ]
    },
    {
      "cell_type": "code",
      "execution_count": 3,
      "metadata": {
        "id": "zDSJ32UfcXlp",
        "colab": {
          "base_uri": "https://localhost:8080/",
          "height": 105
        },
        "outputId": "d57a38ad-136b-47f2-eb4a-d7307178c6cd"
      },
      "outputs": [
        {
          "output_type": "stream",
          "name": "stderr",
          "text": [
            "Downloading...\n",
            "From: https://drive.google.com/uc?id=16HZKULqv2sX6AMqi4A8ndQ9ULeCLo4Qt\n",
            "To: /content/online_retail.csv\n",
            "100%|██████████| 44.5M/44.5M [00:00<00:00, 83.5MB/s]\n"
          ]
        },
        {
          "output_type": "execute_result",
          "data": {
            "text/plain": [
              "'online_retail.csv'"
            ],
            "application/vnd.google.colaboratory.intrinsic+json": {
              "type": "string"
            }
          },
          "metadata": {},
          "execution_count": 3
        }
      ],
      "source": [
        "# Download the file from co:rise google drive\n",
        "file_name = \"online_retail.csv\"\n",
        "unique_id = \"16HZKULqv2sX6AMqi4A8ndQ9ULeCLo4Qt\"\n",
        "gdown.download(id=unique_id, output=file_name)"
      ]
    },
    {
      "cell_type": "markdown",
      "metadata": {
        "id": "OjJgWHSpVLCG"
      },
      "source": [
        "### Clean & Prepare the Dataset"
      ]
    },
    {
      "cell_type": "markdown",
      "source": [
        "Now we'll import the data as a pandas dataframe. The code below will show you the first 5 rows of the dataframe, but feel free to explore the data further!"
      ],
      "metadata": {
        "id": "ggz-ny2U6FQn"
      }
    },
    {
      "cell_type": "code",
      "execution_count": 4,
      "metadata": {
        "id": "6vHVNKpadgNE",
        "colab": {
          "base_uri": "https://localhost:8080/",
          "height": 206
        },
        "outputId": "7240bd2b-1f1f-4380-a645-aecffb2e3b31"
      },
      "outputs": [
        {
          "output_type": "execute_result",
          "data": {
            "text/plain": [
              "  InvoiceNo StockCode                          Description  Quantity  \\\n",
              "0    536365    85123A   WHITE HANGING HEART T-LIGHT HOLDER         6   \n",
              "1    536365     71053                  WHITE METAL LANTERN         6   \n",
              "2    536365    84406B       CREAM CUPID HEARTS COAT HANGER         8   \n",
              "3    536365    84029G  KNITTED UNION FLAG HOT WATER BOTTLE         6   \n",
              "4    536365    84029E       RED WOOLLY HOTTIE WHITE HEART.         6   \n",
              "\n",
              "    InvoiceDate  UnitPrice  CustomerID         Country  \n",
              "0  12/1/21 8:26       2.55     17850.0  United Kingdom  \n",
              "1  12/1/21 8:26       3.39     17850.0  United Kingdom  \n",
              "2  12/1/21 8:26       2.75     17850.0  United Kingdom  \n",
              "3  12/1/21 8:26       3.39     17850.0  United Kingdom  \n",
              "4  12/1/21 8:26       3.39     17850.0  United Kingdom  "
            ],
            "text/html": [
              "\n",
              "  <div id=\"df-ad92c459-3685-4d12-beec-962d20c1896e\" class=\"colab-df-container\">\n",
              "    <div>\n",
              "<style scoped>\n",
              "    .dataframe tbody tr th:only-of-type {\n",
              "        vertical-align: middle;\n",
              "    }\n",
              "\n",
              "    .dataframe tbody tr th {\n",
              "        vertical-align: top;\n",
              "    }\n",
              "\n",
              "    .dataframe thead th {\n",
              "        text-align: right;\n",
              "    }\n",
              "</style>\n",
              "<table border=\"1\" class=\"dataframe\">\n",
              "  <thead>\n",
              "    <tr style=\"text-align: right;\">\n",
              "      <th></th>\n",
              "      <th>InvoiceNo</th>\n",
              "      <th>StockCode</th>\n",
              "      <th>Description</th>\n",
              "      <th>Quantity</th>\n",
              "      <th>InvoiceDate</th>\n",
              "      <th>UnitPrice</th>\n",
              "      <th>CustomerID</th>\n",
              "      <th>Country</th>\n",
              "    </tr>\n",
              "  </thead>\n",
              "  <tbody>\n",
              "    <tr>\n",
              "      <th>0</th>\n",
              "      <td>536365</td>\n",
              "      <td>85123A</td>\n",
              "      <td>WHITE HANGING HEART T-LIGHT HOLDER</td>\n",
              "      <td>6</td>\n",
              "      <td>12/1/21 8:26</td>\n",
              "      <td>2.55</td>\n",
              "      <td>17850.0</td>\n",
              "      <td>United Kingdom</td>\n",
              "    </tr>\n",
              "    <tr>\n",
              "      <th>1</th>\n",
              "      <td>536365</td>\n",
              "      <td>71053</td>\n",
              "      <td>WHITE METAL LANTERN</td>\n",
              "      <td>6</td>\n",
              "      <td>12/1/21 8:26</td>\n",
              "      <td>3.39</td>\n",
              "      <td>17850.0</td>\n",
              "      <td>United Kingdom</td>\n",
              "    </tr>\n",
              "    <tr>\n",
              "      <th>2</th>\n",
              "      <td>536365</td>\n",
              "      <td>84406B</td>\n",
              "      <td>CREAM CUPID HEARTS COAT HANGER</td>\n",
              "      <td>8</td>\n",
              "      <td>12/1/21 8:26</td>\n",
              "      <td>2.75</td>\n",
              "      <td>17850.0</td>\n",
              "      <td>United Kingdom</td>\n",
              "    </tr>\n",
              "    <tr>\n",
              "      <th>3</th>\n",
              "      <td>536365</td>\n",
              "      <td>84029G</td>\n",
              "      <td>KNITTED UNION FLAG HOT WATER BOTTLE</td>\n",
              "      <td>6</td>\n",
              "      <td>12/1/21 8:26</td>\n",
              "      <td>3.39</td>\n",
              "      <td>17850.0</td>\n",
              "      <td>United Kingdom</td>\n",
              "    </tr>\n",
              "    <tr>\n",
              "      <th>4</th>\n",
              "      <td>536365</td>\n",
              "      <td>84029E</td>\n",
              "      <td>RED WOOLLY HOTTIE WHITE HEART.</td>\n",
              "      <td>6</td>\n",
              "      <td>12/1/21 8:26</td>\n",
              "      <td>3.39</td>\n",
              "      <td>17850.0</td>\n",
              "      <td>United Kingdom</td>\n",
              "    </tr>\n",
              "  </tbody>\n",
              "</table>\n",
              "</div>\n",
              "    <div class=\"colab-df-buttons\">\n",
              "\n",
              "  <div class=\"colab-df-container\">\n",
              "    <button class=\"colab-df-convert\" onclick=\"convertToInteractive('df-ad92c459-3685-4d12-beec-962d20c1896e')\"\n",
              "            title=\"Convert this dataframe to an interactive table.\"\n",
              "            style=\"display:none;\">\n",
              "\n",
              "  <svg xmlns=\"http://www.w3.org/2000/svg\" height=\"24px\" viewBox=\"0 -960 960 960\">\n",
              "    <path d=\"M120-120v-720h720v720H120Zm60-500h600v-160H180v160Zm220 220h160v-160H400v160Zm0 220h160v-160H400v160ZM180-400h160v-160H180v160Zm440 0h160v-160H620v160ZM180-180h160v-160H180v160Zm440 0h160v-160H620v160Z\"/>\n",
              "  </svg>\n",
              "    </button>\n",
              "\n",
              "  <style>\n",
              "    .colab-df-container {\n",
              "      display:flex;\n",
              "      gap: 12px;\n",
              "    }\n",
              "\n",
              "    .colab-df-convert {\n",
              "      background-color: #E8F0FE;\n",
              "      border: none;\n",
              "      border-radius: 50%;\n",
              "      cursor: pointer;\n",
              "      display: none;\n",
              "      fill: #1967D2;\n",
              "      height: 32px;\n",
              "      padding: 0 0 0 0;\n",
              "      width: 32px;\n",
              "    }\n",
              "\n",
              "    .colab-df-convert:hover {\n",
              "      background-color: #E2EBFA;\n",
              "      box-shadow: 0px 1px 2px rgba(60, 64, 67, 0.3), 0px 1px 3px 1px rgba(60, 64, 67, 0.15);\n",
              "      fill: #174EA6;\n",
              "    }\n",
              "\n",
              "    .colab-df-buttons div {\n",
              "      margin-bottom: 4px;\n",
              "    }\n",
              "\n",
              "    [theme=dark] .colab-df-convert {\n",
              "      background-color: #3B4455;\n",
              "      fill: #D2E3FC;\n",
              "    }\n",
              "\n",
              "    [theme=dark] .colab-df-convert:hover {\n",
              "      background-color: #434B5C;\n",
              "      box-shadow: 0px 1px 3px 1px rgba(0, 0, 0, 0.15);\n",
              "      filter: drop-shadow(0px 1px 2px rgba(0, 0, 0, 0.3));\n",
              "      fill: #FFFFFF;\n",
              "    }\n",
              "  </style>\n",
              "\n",
              "    <script>\n",
              "      const buttonEl =\n",
              "        document.querySelector('#df-ad92c459-3685-4d12-beec-962d20c1896e button.colab-df-convert');\n",
              "      buttonEl.style.display =\n",
              "        google.colab.kernel.accessAllowed ? 'block' : 'none';\n",
              "\n",
              "      async function convertToInteractive(key) {\n",
              "        const element = document.querySelector('#df-ad92c459-3685-4d12-beec-962d20c1896e');\n",
              "        const dataTable =\n",
              "          await google.colab.kernel.invokeFunction('convertToInteractive',\n",
              "                                                    [key], {});\n",
              "        if (!dataTable) return;\n",
              "\n",
              "        const docLinkHtml = 'Like what you see? Visit the ' +\n",
              "          '<a target=\"_blank\" href=https://colab.research.google.com/notebooks/data_table.ipynb>data table notebook</a>'\n",
              "          + ' to learn more about interactive tables.';\n",
              "        element.innerHTML = '';\n",
              "        dataTable['output_type'] = 'display_data';\n",
              "        await google.colab.output.renderOutput(dataTable, element);\n",
              "        const docLink = document.createElement('div');\n",
              "        docLink.innerHTML = docLinkHtml;\n",
              "        element.appendChild(docLink);\n",
              "      }\n",
              "    </script>\n",
              "  </div>\n",
              "\n",
              "\n",
              "<div id=\"df-9d20febf-78a2-4426-a326-7b6e5c47d3b2\">\n",
              "  <button class=\"colab-df-quickchart\" onclick=\"quickchart('df-9d20febf-78a2-4426-a326-7b6e5c47d3b2')\"\n",
              "            title=\"Suggest charts.\"\n",
              "            style=\"display:none;\">\n",
              "\n",
              "<svg xmlns=\"http://www.w3.org/2000/svg\" height=\"24px\"viewBox=\"0 0 24 24\"\n",
              "     width=\"24px\">\n",
              "    <g>\n",
              "        <path d=\"M19 3H5c-1.1 0-2 .9-2 2v14c0 1.1.9 2 2 2h14c1.1 0 2-.9 2-2V5c0-1.1-.9-2-2-2zM9 17H7v-7h2v7zm4 0h-2V7h2v10zm4 0h-2v-4h2v4z\"/>\n",
              "    </g>\n",
              "</svg>\n",
              "  </button>\n",
              "\n",
              "<style>\n",
              "  .colab-df-quickchart {\n",
              "      --bg-color: #E8F0FE;\n",
              "      --fill-color: #1967D2;\n",
              "      --hover-bg-color: #E2EBFA;\n",
              "      --hover-fill-color: #174EA6;\n",
              "      --disabled-fill-color: #AAA;\n",
              "      --disabled-bg-color: #DDD;\n",
              "  }\n",
              "\n",
              "  [theme=dark] .colab-df-quickchart {\n",
              "      --bg-color: #3B4455;\n",
              "      --fill-color: #D2E3FC;\n",
              "      --hover-bg-color: #434B5C;\n",
              "      --hover-fill-color: #FFFFFF;\n",
              "      --disabled-bg-color: #3B4455;\n",
              "      --disabled-fill-color: #666;\n",
              "  }\n",
              "\n",
              "  .colab-df-quickchart {\n",
              "    background-color: var(--bg-color);\n",
              "    border: none;\n",
              "    border-radius: 50%;\n",
              "    cursor: pointer;\n",
              "    display: none;\n",
              "    fill: var(--fill-color);\n",
              "    height: 32px;\n",
              "    padding: 0;\n",
              "    width: 32px;\n",
              "  }\n",
              "\n",
              "  .colab-df-quickchart:hover {\n",
              "    background-color: var(--hover-bg-color);\n",
              "    box-shadow: 0 1px 2px rgba(60, 64, 67, 0.3), 0 1px 3px 1px rgba(60, 64, 67, 0.15);\n",
              "    fill: var(--button-hover-fill-color);\n",
              "  }\n",
              "\n",
              "  .colab-df-quickchart-complete:disabled,\n",
              "  .colab-df-quickchart-complete:disabled:hover {\n",
              "    background-color: var(--disabled-bg-color);\n",
              "    fill: var(--disabled-fill-color);\n",
              "    box-shadow: none;\n",
              "  }\n",
              "\n",
              "  .colab-df-spinner {\n",
              "    border: 2px solid var(--fill-color);\n",
              "    border-color: transparent;\n",
              "    border-bottom-color: var(--fill-color);\n",
              "    animation:\n",
              "      spin 1s steps(1) infinite;\n",
              "  }\n",
              "\n",
              "  @keyframes spin {\n",
              "    0% {\n",
              "      border-color: transparent;\n",
              "      border-bottom-color: var(--fill-color);\n",
              "      border-left-color: var(--fill-color);\n",
              "    }\n",
              "    20% {\n",
              "      border-color: transparent;\n",
              "      border-left-color: var(--fill-color);\n",
              "      border-top-color: var(--fill-color);\n",
              "    }\n",
              "    30% {\n",
              "      border-color: transparent;\n",
              "      border-left-color: var(--fill-color);\n",
              "      border-top-color: var(--fill-color);\n",
              "      border-right-color: var(--fill-color);\n",
              "    }\n",
              "    40% {\n",
              "      border-color: transparent;\n",
              "      border-right-color: var(--fill-color);\n",
              "      border-top-color: var(--fill-color);\n",
              "    }\n",
              "    60% {\n",
              "      border-color: transparent;\n",
              "      border-right-color: var(--fill-color);\n",
              "    }\n",
              "    80% {\n",
              "      border-color: transparent;\n",
              "      border-right-color: var(--fill-color);\n",
              "      border-bottom-color: var(--fill-color);\n",
              "    }\n",
              "    90% {\n",
              "      border-color: transparent;\n",
              "      border-bottom-color: var(--fill-color);\n",
              "    }\n",
              "  }\n",
              "</style>\n",
              "\n",
              "  <script>\n",
              "    async function quickchart(key) {\n",
              "      const quickchartButtonEl =\n",
              "        document.querySelector('#' + key + ' button');\n",
              "      quickchartButtonEl.disabled = true;  // To prevent multiple clicks.\n",
              "      quickchartButtonEl.classList.add('colab-df-spinner');\n",
              "      try {\n",
              "        const charts = await google.colab.kernel.invokeFunction(\n",
              "            'suggestCharts', [key], {});\n",
              "      } catch (error) {\n",
              "        console.error('Error during call to suggestCharts:', error);\n",
              "      }\n",
              "      quickchartButtonEl.classList.remove('colab-df-spinner');\n",
              "      quickchartButtonEl.classList.add('colab-df-quickchart-complete');\n",
              "    }\n",
              "    (() => {\n",
              "      let quickchartButtonEl =\n",
              "        document.querySelector('#df-9d20febf-78a2-4426-a326-7b6e5c47d3b2 button');\n",
              "      quickchartButtonEl.style.display =\n",
              "        google.colab.kernel.accessAllowed ? 'block' : 'none';\n",
              "    })();\n",
              "  </script>\n",
              "</div>\n",
              "    </div>\n",
              "  </div>\n"
            ]
          },
          "metadata": {},
          "execution_count": 4
        }
      ],
      "source": [
        "# import data and show first 5 rows\n",
        "data = pd.read_csv(file_name)\n",
        "data.head()"
      ]
    },
    {
      "cell_type": "markdown",
      "metadata": {
        "id": "ddQHZwyOa3MN"
      },
      "source": [
        "## Project Jumpstart"
      ]
    },
    {
      "cell_type": "markdown",
      "metadata": {
        "id": "gZpxbAMyfGwI"
      },
      "source": [
        "### Explore Basic Statistics You Get Out of the Box with Pandas"
      ]
    },
    {
      "cell_type": "code",
      "execution_count": null,
      "metadata": {
        "id": "UuxfW2EBfguL"
      },
      "outputs": [],
      "source": [
        "# check record count and column count\n",
        "data.shape"
      ]
    },
    {
      "cell_type": "code",
      "execution_count": null,
      "metadata": {
        "id": "updJj9X7flfQ"
      },
      "outputs": [],
      "source": [
        "# review basic information about the dataset including column names, data types, non-null counts, and memory usage\n",
        "data.info()"
      ]
    },
    {
      "cell_type": "code",
      "execution_count": null,
      "metadata": {
        "id": "7YpzC3gVf0bH"
      },
      "outputs": [],
      "source": [
        "# check the number of missing values in each column\n",
        "data.isnull().sum(axis=0)"
      ]
    },
    {
      "cell_type": "markdown",
      "metadata": {
        "id": "tOlxNAWja3MP"
      },
      "source": [
        "On the job, you'll need to explore if there are specific patterns to the missing values. For the sake of expediency and simplicity in this project, we'll drop them."
      ]
    },
    {
      "cell_type": "code",
      "execution_count": null,
      "metadata": {
        "id": "Wm-b3eZygVO3"
      },
      "outputs": [],
      "source": [
        "# Drop missing values and validate that there are no missing values after the fix\n",
        "data = data.dropna().reset_index(drop=True)\n",
        "data.isnull().sum(axis=0)"
      ]
    },
    {
      "cell_type": "code",
      "execution_count": null,
      "metadata": {
        "id": "OYwdj7oCg9iX"
      },
      "outputs": [],
      "source": [
        "# Check the number of unique values in each column\n",
        "data.nunique()"
      ]
    },
    {
      "cell_type": "code",
      "execution_count": null,
      "metadata": {
        "id": "6Bkh7diza3MP"
      },
      "outputs": [],
      "source": [
        "# Use pandas describe() method to get a summary of the numerical columns\n",
        "basic_stats = pd.DataFrame(data.describe())\n",
        "basic_stats"
      ]
    },
    {
      "cell_type": "markdown",
      "source": [
        "Now we need to create columns for Year, Month, Day, and Quarter so that your leadership team at CostPro can look at statistics for specific time periods in your dashboard."
      ],
      "metadata": {
        "id": "ZRbJqGMB8KZn"
      }
    },
    {
      "cell_type": "code",
      "execution_count": null,
      "metadata": {
        "id": "GXslL7GvhjnN"
      },
      "outputs": [],
      "source": [
        "# Format date columns\n",
        "# Note: the pandas to_datetime function is being deprecated in the near future\n",
        "data['InvoiceDate'] = pd.to_datetime(data['InvoiceDate'])\n",
        "\n",
        "data[\"Year\"] = data[\"InvoiceDate\"].dt.year\n",
        "data[\"Month\"] = data[\"InvoiceDate\"].dt.month\n",
        "data[\"Day\"] = data[\"InvoiceDate\"].dt.day\n",
        "data[\"Quarter\"] = data[\"InvoiceDate\"].dt.quarter"
      ]
    },
    {
      "cell_type": "markdown",
      "metadata": {
        "id": "oNGnj-_pa3MQ"
      },
      "source": [
        "### Clean the Data\n",
        "\n",
        "Check the basic stats on the numeric data again, what do you notice?"
      ]
    },
    {
      "cell_type": "code",
      "execution_count": null,
      "metadata": {
        "id": "eRy122Waa3MQ"
      },
      "outputs": [],
      "source": [
        "basic_stats"
      ]
    },
    {
      "cell_type": "markdown",
      "metadata": {
        "id": "Wjpz8GGUa3MR"
      },
      "source": [
        "Look at the quantity minimum! `-80995.000000`\n",
        "\n",
        "Let's take a look at the dataset again to figure out what's going on!"
      ]
    },
    {
      "cell_type": "code",
      "execution_count": null,
      "metadata": {
        "id": "6i8bLnxEa3MR"
      },
      "outputs": [],
      "source": [
        "# Review records where the quantity is less than 0\n",
        "data[data['Quantity'] < 0].head()"
      ]
    },
    {
      "cell_type": "markdown",
      "metadata": {
        "id": "TXj3yIVOa3MR"
      },
      "source": [
        "After closer examination, we can see that both the quantities and pricing are negative. We can also see that the Invoice Numbers are prepended with a `C`.\n",
        "\n",
        "A quick glance at the data docs tells us that \"InvoiceNo: Invoice number. Nominal, a 6-digit integral number uniquely assigned to each transaction. If this code starts with letter 'c', it indicates a cancellation.\""
      ]
    },
    {
      "cell_type": "code",
      "execution_count": null,
      "metadata": {
        "id": "NRCriMLVa3MR"
      },
      "outputs": [],
      "source": [
        "# Create a function to remove cancelled orders\n",
        "def remove_cancelled_orders(data):\n",
        "    # Create a subset of the data that only has cancelled invoices\n",
        "    cancelled_invoices = data[data['InvoiceNo'].str.contains('C')]\n",
        "\n",
        "    # Create a new column that contains the original invoice number\n",
        "    cancelled_invoices['OriginalInvoiceNo'] = cancelled_invoices['InvoiceNo'].str.replace('C', '')\n",
        "\n",
        "    # Filter the dataset to only include invoices that haven't been cancelled\n",
        "    data = data[~data['InvoiceNo'].str.contains('C')]\n",
        "\n",
        "    # Filter the data by the original invoice number on the cancelled invoices\n",
        "    return data[~data['InvoiceNo'].isin(cancelled_invoices['OriginalInvoiceNo'])]\n",
        "\n",
        "data = remove_cancelled_orders(data)\n",
        "\n",
        "data.head()\n",
        "\n",
        "# Review the data again to ensure that the cancelled orders have been removed\n",
        "assert data[data['InvoiceNo'].str.contains('C')].shape[0] == 0\n"
      ]
    },
    {
      "cell_type": "markdown",
      "metadata": {
        "id": "KAWFQG0fa3MR"
      },
      "source": [
        "Great! That's looking much better! Now the minimum quantity is 1.\n",
        "\n",
        "On the job, we'd definitely want to dig into what products get returned and at what rate and factor returns into total sales. For the sake of expediency in this project, we're going to ignore cancellations and returns."
      ]
    },
    {
      "cell_type": "markdown",
      "metadata": {
        "id": "ZJRfHKHhhz7D"
      },
      "source": [
        "### Create Useful Aggregations"
      ]
    },
    {
      "cell_type": "code",
      "execution_count": null,
      "metadata": {
        "id": "AHEYqVuRhxEZ"
      },
      "outputs": [],
      "source": [
        "# Create a column that represents the total price of each item\n",
        "data['TotalPrice'] = data['Quantity'] * data['UnitPrice']"
      ]
    },
    {
      "cell_type": "code",
      "execution_count": null,
      "metadata": {
        "id": "gq_Vww8oa3MS"
      },
      "outputs": [],
      "source": [
        "# Create a dataframe that represents the total value of each order\n",
        "total_value_per_order = pd.DataFrame(data.groupby('InvoiceNo')['TotalPrice'].sum())\n",
        "total_value_per_order.head()"
      ]
    },
    {
      "cell_type": "markdown",
      "metadata": {
        "id": "pgl0UBVra3MS"
      },
      "source": [
        "### Measures of Central Tendency"
      ]
    },
    {
      "cell_type": "markdown",
      "metadata": {
        "id": "OoAFdtPCa3MS"
      },
      "source": [
        "#### Mean"
      ]
    },
    {
      "cell_type": "code",
      "execution_count": null,
      "metadata": {
        "id": "2QZjoqe0a3MS"
      },
      "outputs": [],
      "source": [
        "# Calculate the average total value of each order\n",
        "total_value_per_order['TotalPrice'].mean()"
      ]
    },
    {
      "cell_type": "markdown",
      "metadata": {
        "id": "nx26MoOna3MS"
      },
      "source": [
        "#### Median"
      ]
    },
    {
      "cell_type": "code",
      "execution_count": null,
      "metadata": {
        "id": "jub5TxXya3MS"
      },
      "outputs": [],
      "source": [
        "# Calculate the median total value of each order\n",
        "total_value_per_order['TotalPrice'].median()"
      ]
    },
    {
      "cell_type": "markdown",
      "metadata": {
        "id": "72zYH1Rza3MT"
      },
      "source": [
        "Since there's a sizeable difference between the mean and the median, we know the data is skewed. This means we should probably display the median on the dashboard and also visualize the data distribution to highlight the skew."
      ]
    },
    {
      "cell_type": "markdown",
      "metadata": {
        "id": "LcgpCeRha3MT"
      },
      "source": [
        "#### Inter-Quartile Range\n",
        "Use Interquartile range to help you understand the central tendencies and range of the data."
      ]
    },
    {
      "cell_type": "code",
      "execution_count": null,
      "metadata": {
        "id": "eXRC12qsa3MT"
      },
      "outputs": [],
      "source": [
        "# visualize the interquartile range of the total price as a boxplot\n",
        "sns.boxplot(total_value_per_order['TotalPrice'])"
      ]
    },
    {
      "cell_type": "code",
      "execution_count": null,
      "metadata": {
        "id": "-BY20_i0a3MT"
      },
      "outputs": [],
      "source": [
        "# Remove outliers that are more than 1.5 times the interquartile range\n",
        "q1 = total_value_per_order['TotalPrice'].quantile(0.25)\n",
        "q3 = total_value_per_order['TotalPrice'].quantile(0.75)\n",
        "iqr = q3 - q1\n",
        "total_value_per_order = total_value_per_order[(total_value_per_order['TotalPrice'] >= q1 - 1.5 * iqr) & (total_value_per_order['TotalPrice'] <= q3 + 1.5 * iqr)]"
      ]
    },
    {
      "cell_type": "code",
      "execution_count": null,
      "metadata": {
        "id": "W0FhsOA2a3MT"
      },
      "outputs": [],
      "source": [
        "# Check the boxplot again\n",
        "sns.boxplot(total_value_per_order['TotalPrice'])"
      ]
    },
    {
      "cell_type": "code",
      "source": [
        "# Reset the index to make it easier to filter on InvoiceNo\n",
        "total_value_per_order = total_value_per_order.reset_index(level=0)"
      ],
      "metadata": {
        "id": "Kpn8DIriMi4I"
      },
      "execution_count": null,
      "outputs": []
    },
    {
      "cell_type": "code",
      "source": [
        "# Filter the data by the dataframe where we've removed outliers\n",
        "data = data[data['InvoiceNo'].isin(total_value_per_order['InvoiceNo'])]\n",
        "data.head()"
      ],
      "metadata": {
        "id": "SC0BqDtbMkNe"
      },
      "execution_count": null,
      "outputs": []
    },
    {
      "cell_type": "markdown",
      "metadata": {
        "id": "JzBtFUFRa3MT"
      },
      "source": [
        "Now we're seeing a dataset that looks a lot more like what we'd expect to see for purchase data, however, there is still a lot of variability."
      ]
    },
    {
      "cell_type": "markdown",
      "metadata": {
        "id": "6fW5dRiEa3MT"
      },
      "source": [
        "### Measures of Variability"
      ]
    },
    {
      "cell_type": "markdown",
      "metadata": {
        "id": "vKx2wiv2a3MT"
      },
      "source": [
        "#### Standard Deviation"
      ]
    },
    {
      "cell_type": "code",
      "execution_count": null,
      "metadata": {
        "id": "eXuNC9Mva3MU"
      },
      "outputs": [],
      "source": [
        "# Calculate the standard deviation of the total value of each order\n",
        "total_value_per_order['TotalPrice'].std()"
      ]
    },
    {
      "cell_type": "code",
      "execution_count": null,
      "metadata": {
        "id": "JNq-uMAVa3MU"
      },
      "outputs": [],
      "source": [
        "# Visualize the distribution of the total order value\n",
        "sns.displot(total_value_per_order['TotalPrice'], kde=True)"
      ]
    },
    {
      "cell_type": "markdown",
      "metadata": {
        "id": "MEhb2VmMa3MU"
      },
      "source": [
        "#### Variance"
      ]
    },
    {
      "cell_type": "code",
      "execution_count": null,
      "metadata": {
        "id": "4XOMY6lpa3MU"
      },
      "outputs": [],
      "source": [
        "# Calculate the variance of the total value of each order\n",
        "total_value_per_order['TotalPrice'].var()"
      ]
    },
    {
      "cell_type": "markdown",
      "metadata": {
        "id": "4ooA5kt9a3MU"
      },
      "source": [
        "#### Maximum"
      ]
    },
    {
      "cell_type": "code",
      "execution_count": null,
      "metadata": {
        "id": "hVcRNqfNa3MU"
      },
      "outputs": [],
      "source": [
        "# Calculate the maximum order value\n",
        "maximum_order_value = round(total_value_per_order['TotalPrice'].max(), 2)\n",
        "maximum_order_value"
      ]
    },
    {
      "cell_type": "markdown",
      "metadata": {
        "id": "lRzHTHQta3MU"
      },
      "source": [
        "#### Minimum"
      ]
    },
    {
      "cell_type": "code",
      "execution_count": null,
      "metadata": {
        "id": "SggQ9BP1a3MU"
      },
      "outputs": [],
      "source": [
        "# Calculate the minimum order value\n",
        "minimum_order_value = round(total_value_per_order['TotalPrice'].min(), 2)\n",
        "minimum_order_value"
      ]
    },
    {
      "cell_type": "markdown",
      "metadata": {
        "id": "peMyILZga3MV"
      },
      "source": [
        "#### Range\n",
        "What is the new range of this dataset after removing outliers?"
      ]
    },
    {
      "cell_type": "code",
      "execution_count": null,
      "metadata": {
        "id": "DVehmlPya3MV"
      },
      "outputs": [],
      "source": [
        "# Calculate the range of the total value of each order\n",
        "maximum_order_value - minimum_order_value"
      ]
    },
    {
      "cell_type": "markdown",
      "metadata": {
        "id": "6H-qX1k9a3MV"
      },
      "source": [
        "## Your Turn! Apply This Week's Concepts\n",
        "\n",
        "You'll be writing these tasks inside python functions. This helps you in many ways:\n",
        "\n",
        "- easier for you to debug\n",
        "- easier for you to test\n",
        "- allows you to set up metrics for your dashboard without re-writing this code later!"
      ]
    },
    {
      "cell_type": "markdown",
      "metadata": {
        "id": "n7NX-Pdya3MV"
      },
      "source": [
        "### Filter Data By Year and Quarter\n",
        "\n",
        "Here's an example, you get the first one for free!"
      ]
    },
    {
      "cell_type": "code",
      "execution_count": null,
      "metadata": {
        "id": "MoNC35HFa3MV"
      },
      "outputs": [],
      "source": [
        "# Write a function to filter a pandas dataframe by year and quarter\n",
        "def filter_by_year_and_quarter(df, year, quarter):\n",
        "\n",
        "    # Filter the dataframe by the year and quarter\n",
        "    filtered_df = df[(df['Year'] == year) & (df['Quarter'] == quarter)]\n",
        "\n",
        "    # Return the filtered dataframe\n",
        "    if filtered_df.shape[0] > 0:\n",
        "        return filtered_df\n",
        "    else:\n",
        "        assert filtered_df.shape[0] > 0, \"There are no records for the specified year and quarter\""
      ]
    },
    {
      "cell_type": "code",
      "execution_count": null,
      "metadata": {
        "id": "j43e29MUa3MV"
      },
      "outputs": [],
      "source": [
        "# Create a dataframe that only contains records for 2022 Q4\n",
        "print(filter_by_year_and_quarter(data, 2022, 4).head(5))\n",
        "\n",
        "# Write a test to validate the function\n",
        "assert filter_by_year_and_quarter(data, 2022, 4)['Year'].unique()[0] == 2022, \"There should only be records for 2022\"\n",
        "assert filter_by_year_and_quarter(data, 2022, 4)['Quarter'].unique()[0] == 4, \"There should be records for Q4\""
      ]
    },
    {
      "cell_type": "markdown",
      "metadata": {
        "id": "WZfwdjfNa3MW"
      },
      "source": [
        "### Calculate Total Sales (Sum)"
      ]
    },
    {
      "cell_type": "code",
      "execution_count": null,
      "metadata": {
        "id": "dcHXzKFaa3MW"
      },
      "outputs": [],
      "source": [
        "def total_sales(data: pd.DataFrame, year: int, quarter: int) -> float:\n",
        "    \"\"\"\n",
        "    Calculate the total sales for a given year and quarter\n",
        "    :param data: The dataframe containing the data\n",
        "    :param year: The year to calculate the total sales for\n",
        "    :param quarter: The quarter to calculate the total sales for\n",
        "    :return: The total sales for the given year and quarter\n",
        "    \"\"\"\n",
        "    # Filter the data by the given year and quarter\n",
        "    data = filter_by_year_and_quarter(data, year, quarter)\n",
        "\n",
        "    # Calculate the total sales\n",
        "    return <YOUR CODE HERE>"
      ]
    },
    {
      "cell_type": "code",
      "execution_count": null,
      "metadata": {
        "id": "WEygg1KDa3MW"
      },
      "outputs": [],
      "source": [
        "# Calculate the total sales for 2022 Q4\n",
        "print(f'The total sales for 2022 Q4 are: ${total_sales(data, 2022, 4)}')"
      ]
    },
    {
      "cell_type": "markdown",
      "metadata": {
        "id": "7U-BUuJBa3MW"
      },
      "source": [
        "### How Many Customers Are There Per Day? (Mean)"
      ]
    },
    {
      "cell_type": "code",
      "execution_count": null,
      "metadata": {
        "id": "1WVn20wRa3MW"
      },
      "outputs": [],
      "source": [
        "# Write a function to calculate mean number of customers per day\n",
        "def mean_customers_per_day(data: pd.DataFrame, year: int, quarter: int) -> float:\n",
        "    \"\"\"\n",
        "    Calculate the mean number of customers per day for a given year and quarter\n",
        "    :param data: The dataframe containing the data\n",
        "    :param year: The year to calculate the mean number of customers per day for\n",
        "    :param quarter: The quarter to calculate the mean number of customers per day for\n",
        "    :return: The mean number of customers per day for the given year and quarter\n",
        "    \"\"\"\n",
        "    # Filter the data by the given year and quarter\n",
        "    data = filter_by_year_and_quarter(data, year, quarter)\n",
        "\n",
        "    # Calculate the mean number of customers per day\n",
        "    return <YOUR CODE HERE>"
      ]
    },
    {
      "cell_type": "code",
      "execution_count": null,
      "metadata": {
        "id": "frgu72X_a3MW"
      },
      "outputs": [],
      "source": [
        "# Calculate the mean number of customers per day for 2022 Q4\n",
        "print(f'The mean number of customers per day for 2022 Q4 is: {mean_customers_per_day(data, 2022, 4)}')\n",
        "\n",
        "# Write a test to validate the mean number of customers per day function\n",
        "assert <YOUR CODE HERE>, \"your message here\""
      ]
    },
    {
      "cell_type": "markdown",
      "metadata": {
        "id": "lD-54Gvva3MW"
      },
      "source": [
        "### How Much Do Customers Spend Per Order? (Median)"
      ]
    },
    {
      "cell_type": "code",
      "execution_count": null,
      "metadata": {
        "id": "3PjUaNUua3MW"
      },
      "outputs": [],
      "source": [
        "# Write a function to calculate the median order value for a given year and quarter\n",
        "def median_order_value(data: pd.DataFrame, year: int, quarter: int) -> float:\n",
        "    \"\"\"\n",
        "    Calculate the median order value for a given year and quarter\n",
        "    :param data: The dataframe containing the data\n",
        "    :param year: The year to calculate the median order value for\n",
        "    :param quarter: The quarter to calculate the median order value for\n",
        "    :return: The median order value for the given year and quarter\n",
        "    \"\"\"\n",
        "    # Filter the data by the given year and quarter\n",
        "    data = filter_by_year_and_quarter(data, year, quarter)\n",
        "\n",
        "    # Group data by order number and calculate the order total\n",
        "    <YOUR CODE HERE>\n",
        "\n",
        "    # Calculate the median order value\n",
        "    return <YOUR CODE HERE>"
      ]
    },
    {
      "cell_type": "code",
      "execution_count": null,
      "metadata": {
        "id": "QT8vYwINa3MX"
      },
      "outputs": [],
      "source": [
        "# Calculate the median order value for 2022 Q4\n",
        "print(f'The median order value for 2022 Q4 is: ${median_order_value(data, 2022, 4)}')"
      ]
    },
    {
      "cell_type": "code",
      "source": [
        "# Write a test to validate the median order value function\n",
        "assert <YOUR CODE HERE>"
      ],
      "metadata": {
        "id": "YQyMCq2pbQ_2"
      },
      "execution_count": null,
      "outputs": []
    },
    {
      "cell_type": "markdown",
      "metadata": {
        "id": "KGEpl4cXa3MX"
      },
      "source": [
        "### How Variable Are Order Totals?"
      ]
    },
    {
      "cell_type": "code",
      "execution_count": null,
      "metadata": {
        "id": "d-2xf2F4a3MX"
      },
      "outputs": [],
      "source": [
        "# Write a function to calculate the order value variability for a given year and quarter\n",
        "def order_value_variability(data: pd.DataFrame, year: int, quarter: int) -> float:\n",
        "    \"\"\"\n",
        "    Calculate the order value variability for a given year and quarter\n",
        "    :param data: The dataframe containing the data\n",
        "    :param year: The year to calculate the order value variability for\n",
        "    :param quarter: The quarter to calculate the order value variability for\n",
        "    :return: The order value variability for the given year and quarter\n",
        "    \"\"\"\n",
        "    # Filter the data by the given year and quarter\n",
        "    data = filter_by_year_and_quarter(data, year, quarter)\n",
        "\n",
        "    # Group data by order number and calculate the order total\n",
        "    <YOUR CODE HERE>\n",
        "\n",
        "    # Calculate the order value variability\n",
        "    return <YOUR CODE HERE>"
      ]
    },
    {
      "cell_type": "code",
      "execution_count": null,
      "metadata": {
        "id": "7OVvb8s7a3MX"
      },
      "outputs": [],
      "source": [
        "# Print out the order value variability for 2022 Q4\n",
        "print(f'The standard deviation of order value for 2022 Q4 is: ${order_value_variability(data, 2022, 4)}')"
      ]
    },
    {
      "cell_type": "code",
      "execution_count": null,
      "metadata": {
        "id": "o1Qwzeoaa3MX"
      },
      "outputs": [],
      "source": [
        "# Write a test to validate the order value variability function\n",
        "assert <YOUR CODE HERE>"
      ]
    },
    {
      "cell_type": "markdown",
      "metadata": {
        "id": "YvcToEjPa3MX"
      },
      "source": [
        "### What is the Most Popular Product? (Mode - Part 1)"
      ]
    },
    {
      "cell_type": "code",
      "execution_count": null,
      "metadata": {
        "id": "BpNOQtDLa3MX"
      },
      "outputs": [],
      "source": [
        "# Write a function to find the most popular product for a given year and quarter\n",
        "def most_popular_product(data: pd.DataFrame, year: int, quarter: int) -> str:\n",
        "    \"\"\"\n",
        "    Find the most popular product for a given year and quarter\n",
        "    :param data: The dataframe containing the data\n",
        "    :param year: The year to find the most popular product for\n",
        "    :param quarter: The quarter to find the most popular product for\n",
        "    :return: The most popular product for the given year and quarter\n",
        "    \"\"\"\n",
        "    # Filter the data by the given year and quarter\n",
        "    data = filter_by_year_and_quarter(data, year, quarter)\n",
        "\n",
        "    # Find the most popular product\n",
        "    return <YOUR CODE HERE>"
      ]
    },
    {
      "cell_type": "code",
      "execution_count": null,
      "metadata": {
        "id": "ZyAxOqhba3MX"
      },
      "outputs": [],
      "source": [
        "# Find the most popular product for 2022 Q4\n",
        "print(f'The most popular product for 2022 Q4 is: {most_popular_product(data, 2022, 4)}')\n",
        "\n",
        "# Write a test to validate the most popular product function\n",
        "assert <YOUR CODE HERE>"
      ]
    },
    {
      "cell_type": "markdown",
      "metadata": {
        "id": "ER3YgWzCa3MY"
      },
      "source": [
        "### What is the Most Profitable Product? (Mode - Part 2)"
      ]
    },
    {
      "cell_type": "code",
      "execution_count": null,
      "metadata": {
        "id": "yfXerpu4a3MY"
      },
      "outputs": [],
      "source": [
        "# Write a function to find the most profitable product for a given year and quarter\n",
        "def most_profitable_product(data: pd.DataFrame, year: int, quarter: int) -> str:\n",
        "    \"\"\"\n",
        "    Find the most profitable product for a given year and quarter\n",
        "    :param data: The dataframe containing the data\n",
        "    :param year: The year to find the most profitable product for\n",
        "    :param quarter: The quarter to find the most profitable product for\n",
        "    :return: The most profitable product for the given year and quarter\n",
        "    \"\"\"\n",
        "    # Filter the data by the given year and quarter\n",
        "    data = filter_by_year_and_quarter(data, year, quarter)\n",
        "\n",
        "    # Find the most profitable product\n",
        "    return <YOUR CODE HERE>"
      ]
    },
    {
      "cell_type": "code",
      "execution_count": null,
      "metadata": {
        "id": "jjXsTKWza3MY"
      },
      "outputs": [],
      "source": [
        "# Find the most profitable product for 2022 Q4\n",
        "print(f'The most profitable product for 2022 Q4 is: {most_profitable_product(data, 2022, 4)}')\n",
        "\n",
        "# Write a test to validate the most profitable product function\n",
        "assert <YOUR CODE HERE>"
      ]
    },
    {
      "cell_type": "markdown",
      "metadata": {
        "id": "GIrZ_QQEa3MZ"
      },
      "source": [
        "## Your Turn: Build Custom Metrics (Optional)\n",
        "\n",
        "Here's an example of a metric that you'd expect to see on sales dashboard: percentage of returning customers. Use this example as a template to write your own metric!"
      ]
    },
    {
      "cell_type": "markdown",
      "metadata": {
        "id": "9ZkDE1Oha3MZ"
      },
      "source": [
        "### What Percentage of Customers Become Return Customers?"
      ]
    },
    {
      "cell_type": "code",
      "execution_count": null,
      "metadata": {
        "id": "nRByR9dwa3MZ"
      },
      "outputs": [],
      "source": [
        "def customer_retention_rate(data: pd.DataFrame, year: int, quarter: int) -> float:\n",
        "    \"\"\"\n",
        "    Calculate the customer retention rate for a given year and quarter\n",
        "    :param data: The dataframe containing the data\n",
        "    :param year: The year to calculate the customer retention rate for\n",
        "    :param quarter: The quarter to calculate the customer retention rate for\n",
        "    :return: The customer retention rate for the given year and quarter\n",
        "    \"\"\"\n",
        "    # Filter the data by the given year and quarter\n",
        "    data = filter_by_year_and_quarter(data, year, quarter)\n",
        "\n",
        "    # Calculate the number of unique customers\n",
        "    num_customers = <YOUR CODE HERE>\n",
        "\n",
        "    # Calculate the number of repeat customers\n",
        "    num_repeat_customers = <YOUR CODE HERE>\n",
        "\n",
        "    # Calculate the customer retention rate\n",
        "    return <YOUR CODE HERE>"
      ]
    },
    {
      "cell_type": "code",
      "execution_count": null,
      "metadata": {
        "id": "s1zT7vCWa3MZ"
      },
      "outputs": [],
      "source": [
        "# Calculate the customer retention rate for 2022 Q4\n",
        "print(f'The customer retention rate for 2022 Q4 is: {customer_retention_rate(data, 2022, 4)}%')\n",
        "\n",
        "# Write tests to validate the customer retention rate function\n",
        "assert <YOUR CODE HERE>"
      ]
    },
    {
      "cell_type": "markdown",
      "metadata": {
        "id": "2NiIRqElisQq"
      },
      "source": [
        "## Make a Dashboard for Your Portfolio!\n",
        "\n",
        "Optional, but ***Highly Encouraged***, Since You've Already Written the Code!\n",
        "\n",
        "To bring our analysis to life we'll be using a toolkit known as Jupyter Widgets, alongside an interactive plot creation library called Plotly.\n",
        "\n",
        "At this stage we don't anticipate that you're necessarily familiar with the ins and outs of how Jupyter Widgets function, but the code and links below should help you get started.\n",
        "\n",
        "You're welcome to modify it as you please. In fact, data visualization is a crucial component of the data science toolkit, so if you're so inclined, give it a try! Some excellent starting points for learning about Jupyter Widgets can be found here, [here](https://ipywidgets.readthedocs.io/en/latest/examples/Widget%20Basics.html), [here](https://ipywidgets.readthedocs.io/en/latest/examples/Widget%20List.html), and [here](https://towardsdatascience.com/bring-your-jupyter-notebook-to-life-with-interactive-widgets-bc12e03f0916)!\n",
        "\n",
        "One potential place to start - can you come up with a better plot type for the data to show outliers? Have a scroll through what the plotly.express library can do [here](https://plotly.com/python/plotly-express/) for inspiration"
      ]
    },
    {
      "cell_type": "code",
      "source": [
        "import pandas as pd\n",
        "import plotly.express as px\n",
        "from ipywidgets import interact, Select, Output, link\n",
        "from IPython.display import display, clear_output\n",
        "\n",
        "from google.colab import output\n",
        "output.enable_custom_widget_manager()\n",
        "\n",
        "# Create a copy of the data we've processed,\n",
        "#  in case we want to modify it some more\n",
        "df = data.copy(deep=True)\n",
        "\n",
        "# Create an output widget\n",
        "out = Output()\n",
        "\n",
        "# Define function to execute on change of filter\n",
        "def metrics_and_visualization(year, quarter):\n",
        "  # Filter the data for the selected year and quarter\n",
        "  filtered_df = filter_by_year_and_quarter(df, year, quarter)\n",
        "\n",
        "  # Sample our data, to make the visualisation less computionationally intensive\n",
        "  filtered_df = filtered_df.sample(frac=0.1, random_state=42)\n",
        "\n",
        "  out.clear_output(wait=True)\n",
        "  with out:\n",
        "    # Display the metrics\n",
        "    print(f\"Q{quarter} Total sales: ${total_sales(filtered_df, year, quarter)}\")\n",
        "    print(f\"Q{quarter} Mean Number of Customers Per Day: {mean_customers_per_day(filtered_df, year, quarter)}\")\n",
        "    print(f\"Q{quarter} Median Order Value: ${median_order_value(filtered_df, year, quarter)}\")\n",
        "    print(f\"Q{quarter} Standard Deviation of Order Values: ${order_value_variability(filtered_df, year, quarter)}\")\n",
        "    print(f\"Q{quarter} Most Popular Product: {most_popular_product(filtered_df, year, quarter)}\")\n",
        "    print(f\"Q{quarter} Most Profitable Product: {most_profitable_product(filtered_df, year, quarter)}\")\n",
        "    print(f\"Q{quarter} Customer retention rate: {customer_retention_rate(filtered_df, year, quarter)}%\")\n",
        "\n",
        "    # Create a scatterplot of unit prices for the selected quarter\n",
        "    fig = px.scatter(\n",
        "        filtered_df,\n",
        "        x=\"UnitPrice\",\n",
        "        color=\"UnitPrice\",\n",
        "        width=800,\n",
        "        height=400\n",
        "    )\n",
        "    fig.show()\n",
        "\n",
        "# Create a selection widget to choose the quarter\n",
        "year_widget = Select(options=df[\"Year\"].unique().tolist(), description='Year:')\n",
        "quarter_widget = Select(options=df[\"Quarter\"].unique().tolist(), description='Quarter:')\n",
        "\n",
        "# Display widgets\n",
        "display(year_widget, quarter_widget, out)\n",
        "\n",
        "# Define function to update quarters widget based on the selected year\n",
        "def update_quarters(change):\n",
        "    year = change['new']\n",
        "    quarters = df[df[\"Year\"] == year][\"Quarter\"].unique().tolist()\n",
        "    quarter_widget.options = quarters\n",
        "    quarter_widget.value = quarters[0] if quarters else None\n",
        "\n",
        "# Bind the function to changes in the year widget\n",
        "year_widget.observe(update_quarters, names='value')\n",
        "\n",
        "# Bind the metrics_and_visualization function to changes in the widgets\n",
        "def on_change(change):\n",
        "    metrics_and_visualization(year_widget.value, quarter_widget.value)\n",
        "\n",
        "quarter_widget.observe(on_change, names='value')\n",
        "\n",
        "# Call function once to update quarters and display initial data\n",
        "update_quarters({'new': year_widget.value})\n",
        "metrics_and_visualization(year_widget.value, quarter_widget.value)"
      ],
      "metadata": {
        "id": "cDcvzH4r0PJA"
      },
      "execution_count": null,
      "outputs": []
    },
    {
      "cell_type": "markdown",
      "source": [
        "We often want to share visualisations like this with our colleagues and let them play around but without exposing them to all the analysis code we took to get there. Luckily we can easily do this in Colab!\n",
        "* go to `Edit` -> `Select All Cells`\n",
        "* go to `View` -> `Show/hide code`\n",
        "\n",
        "You can also go through and collapse individual sections that you don't want to share (e.g. the bit at the top where we installed some python libraries).\n",
        "\n",
        "You can then share a link to the notebook (`Share` -> `Copy Link`, setting the `General Access` field appropriately) and then anyone you share the link with can open the notebook, run through it, and see your analysis!"
      ],
      "metadata": {
        "id": "n8gh6Uga197k"
      }
    },
    {
      "cell_type": "markdown",
      "source": [
        "#### 🚀 You Did It!!!\n",
        "\n",
        "Congratulations, you've completed your first assignment in Applied Statistics for Data Science!"
      ],
      "metadata": {
        "id": "PN6G-_lzXVYo"
      }
    }
  ],
  "metadata": {
    "colab": {
      "provenance": [],
      "include_colab_link": true
    },
    "kernelspec": {
      "display_name": "Python 3.8.5 64-bit",
      "language": "python",
      "name": "python3"
    },
    "language_info": {
      "codemirror_mode": {
        "name": "ipython",
        "version": 3
      },
      "file_extension": ".py",
      "mimetype": "text/x-python",
      "name": "python",
      "nbconvert_exporter": "python",
      "pygments_lexer": "ipython3",
      "version": "3.8.5"
    },
    "vscode": {
      "interpreter": {
        "hash": "aee8b7b246df8f9039afb4144a1f6fd8d2ca17a180786b69acc140d282b71a49"
      }
    }
  },
  "nbformat": 4,
  "nbformat_minor": 0
}